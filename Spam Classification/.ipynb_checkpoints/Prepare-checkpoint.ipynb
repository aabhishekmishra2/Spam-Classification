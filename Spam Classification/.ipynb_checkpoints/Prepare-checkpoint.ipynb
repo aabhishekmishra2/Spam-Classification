{
 "cells": [
  {
   "cell_type": "code",
   "execution_count": 1,
   "id": "4bbc81c6-72d3-41dd-89b9-f21166b7ad02",
   "metadata": {},
   "outputs": [],
   "source": [
    "import os"
   ]
  },
  {
   "cell_type": "code",
   "execution_count": 2,
   "id": "189a73d7-111e-4b23-9269-411cfbcb1a32",
   "metadata": {},
   "outputs": [
    {
     "data": {
      "text/plain": [
       "'C:\\\\Users\\\\mishr\\\\OneDrive\\\\Desktop\\\\Spam Classification'"
      ]
     },
     "execution_count": 2,
     "metadata": {},
     "output_type": "execute_result"
    }
   ],
   "source": [
    "os.getcwd()"
   ]
  },
  {
   "cell_type": "code",
   "execution_count": 6,
   "id": "647d5304-31c9-4707-906a-accb1d73d9cf",
   "metadata": {},
   "outputs": [],
   "source": [
    "import pandas as pd\n",
    "from sklearn.model_selection import train_test_split\n",
    "from sklearn.feature_extraction.text import CountVectorizer\n",
    "from nltk.corpus import stopwords\n",
    "from nltk.tokenize import word_tokenize\n",
    "import string\n",
    "import re\n",
    "\n",
    "class TextPreprocessor:\n",
    "    def __init__(self):\n",
    "        pass\n",
    "\n",
    "    def preprocess_text(self, df):\n",
    "        # Convert text to lowercase\n",
    "        df['text'] = df['text'].apply(lambda x: x.lower())\n",
    "        \n",
    "        # Remove punctuation\n",
    "        df['text'] = df['text'].apply(lambda x: x.translate(str.maketrans('', '', string.punctuation)))\n",
    "        \n",
    "        # Remove numbers\n",
    "        df['text'] = df['text'].apply(lambda x: re.sub(r'\\d+', '', x))\n",
    "        \n",
    "        # Tokenize text and remove stopwords\n",
    "        stop_words = set(stopwords.words('english'))\n",
    "        df['text'] = df['text'].apply(lambda x: ' '.join([word for word in word_tokenize(x) if word not in stop_words]))\n",
    "        \n",
    "        # Split the dataset into training and testing sets\n",
    "        X_train, X_test, y_train, y_test = train_test_split(df['text'], df['spam'], test_size=0.2, random_state=42)\n",
    "        vectorizer = CountVectorizer()\n",
    "        X_train_vectorized = vectorizer.fit_transform(X_train)\n",
    "        X_test_vectorized = vectorizer.transform(X_test)\n",
    "        \n",
    "        return X_train_vectorized, X_test_vectorized, y_train, y_test\n",
    "\n",
    "# Example usage:\n",
    "# Initialize the TextPreprocessor\n",
    "\n"
   ]
  },
  {
   "cell_type": "code",
   "execution_count": null,
   "id": "f8846bbf-648a-4f1d-a2a6-5971240e0536",
   "metadata": {},
   "outputs": [],
   "source": []
  }
 ],
 "metadata": {
  "kernelspec": {
   "display_name": "Python 3 (ipykernel)",
   "language": "python",
   "name": "python3"
  },
  "language_info": {
   "codemirror_mode": {
    "name": "ipython",
    "version": 3
   },
   "file_extension": ".py",
   "mimetype": "text/x-python",
   "name": "python",
   "nbconvert_exporter": "python",
   "pygments_lexer": "ipython3",
   "version": "3.9.18"
  }
 },
 "nbformat": 4,
 "nbformat_minor": 5
}
