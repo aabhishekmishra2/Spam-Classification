{
 "cells": [
  {
   "cell_type": "code",
   "execution_count": 10,
   "id": "bd849bfd-f6f5-416c-8464-990d06733cee",
   "metadata": {},
   "outputs": [],
   "source": [
    "%run \"Prepare.ipynb\""
   ]
  },
  {
   "cell_type": "code",
   "execution_count": 11,
   "id": "26e69286-9e2a-424a-8d14-d748963cc0b0",
   "metadata": {},
   "outputs": [],
   "source": [
    "text_preprocessor = TextPreprocessor()\n",
    "import pandas as pd\n",
    "df= pd.read_csv('C:\\\\Users\\\\mishr\\\\OneDrive\\\\Desktop\\\\Spam Classification\\\\emails.csv')\n",
    "# preprocess the text data and get the train/test splits\n",
    "X_train, X_test, y_train, y_test = text_preprocessor.preprocess_text(df)"
   ]
  },
  {
   "cell_type": "markdown",
   "id": "f077e113-6467-429f-b38e-e001274079fa",
   "metadata": {},
   "source": [
    "## Model-1 Naive Bayes Classifier"
   ]
  },
  {
   "cell_type": "code",
   "execution_count": 12,
   "id": "e11f0012-3073-4355-b48c-0a908b08baf7",
   "metadata": {},
   "outputs": [
    {
     "name": "stdout",
     "output_type": "stream",
     "text": [
      "Accuracy: 0.9895287958115183\n",
      "Confusion Matrix:\n",
      "[[851   5]\n",
      " [  7 283]]\n"
     ]
    }
   ],
   "source": [
    "# Train the Naive Bayes classifier\n",
    "from sklearn.naive_bayes import MultinomialNB\n",
    "from sklearn.metrics import accuracy_score, confusion_matrix\n",
    "import string\n",
    "import re\n",
    "\n",
    "classifier = MultinomialNB()\n",
    "classifier.fit(X_train, y_train)\n",
    "\n",
    "# Predict labels for the test set\n",
    "y_pred = classifier.predict(X_test)\n",
    "\n",
    "# Calculate accuracy\n",
    "accuracy = accuracy_score(y_test, y_pred)\n",
    "print(\"Accuracy:\", accuracy)\n",
    "\n",
    "# Confusion matrix\n",
    "conf_matrix = confusion_matrix(y_test, y_pred)\n",
    "print(\"Confusion Matrix:\")\n",
    "print(conf_matrix)"
   ]
  },
  {
   "cell_type": "markdown",
   "id": "23e4c4c7-a2e4-459b-9773-8bf3ac8a7ea5",
   "metadata": {},
   "source": [
    "## Model 2-- SVM Classifire"
   ]
  },
  {
   "cell_type": "code",
   "execution_count": 13,
   "id": "b62c7d52-77f0-4738-8126-ca13309bbac6",
   "metadata": {},
   "outputs": [
    {
     "name": "stdout",
     "output_type": "stream",
     "text": [
      "SVM Classifier Accuracy: 0.981675392670157\n",
      "SVM Classifier Confusion Matrix:\n",
      "[[847   9]\n",
      " [ 12 278]]\n"
     ]
    }
   ],
   "source": [
    "from sklearn.svm import SVC\n",
    "from sklearn.metrics import accuracy_score, confusion_matrix\n",
    "\n",
    "# Train the SVM classifier\n",
    "classifier_svm = SVC(kernel='linear')\n",
    "classifier_svm.fit(X_train, y_train)\n",
    "\n",
    "# Predict labels for the test set\n",
    "y_pred_svm = classifier_svm.predict(X_test)\n",
    "\n",
    "# Calculate accuracy\n",
    "accuracy_svm = accuracy_score(y_test, y_pred_svm)\n",
    "print(\"SVM Classifier Accuracy:\", accuracy_svm)\n",
    "\n",
    "# Confusion matrix\n",
    "conf_matrix_svm = confusion_matrix(y_test, y_pred_svm)\n",
    "print(\"SVM Classifier Confusion Matrix:\")\n",
    "print(conf_matrix_svm)\n"
   ]
  },
  {
   "cell_type": "markdown",
   "id": "858ba0a4-d773-447f-a4a1-c7db6a333f79",
   "metadata": {},
   "source": [
    "## Modlel--3 Decision Tree Model"
   ]
  },
  {
   "cell_type": "code",
   "execution_count": 14,
   "id": "5ccd46d8-8231-4305-98d8-ca6560f8bb2f",
   "metadata": {},
   "outputs": [
    {
     "name": "stdout",
     "output_type": "stream",
     "text": [
      "Decision Tree Classifier Accuracy: 0.962478184991274\n",
      "Decision Tree Classifier Confusion Matrix:\n",
      "[[836  20]\n",
      " [ 23 267]]\n"
     ]
    }
   ],
   "source": [
    "from sklearn.tree import DecisionTreeClassifier\n",
    "from sklearn.metrics import accuracy_score, confusion_matrix\n",
    "\n",
    "# Train the Decision Tree classifier\n",
    "classifier_dt = DecisionTreeClassifier()\n",
    "classifier_dt.fit(X_train, y_train)\n",
    "\n",
    "# Predict labels for the test set\n",
    "y_pred_dt = classifier_dt.predict(X_test)\n",
    "\n",
    "# Calculate accuracy\n",
    "accuracy_dt = accuracy_score(y_test, y_pred_dt)\n",
    "print(\"Decision Tree Classifier Accuracy:\", accuracy_dt)\n",
    "\n",
    "# Confusion matrix\n",
    "conf_matrix_dt = confusion_matrix(y_test, y_pred_dt)\n",
    "print(\"Decision Tree Classifier Confusion Matrix:\")\n",
    "print(conf_matrix_dt)\n"
   ]
  },
  {
   "cell_type": "code",
   "execution_count": null,
   "id": "2b6280ac-111f-4d8c-bcec-b79e583b0769",
   "metadata": {},
   "outputs": [],
   "source": []
  }
 ],
 "metadata": {
  "kernelspec": {
   "display_name": "Python 3 (ipykernel)",
   "language": "python",
   "name": "python3"
  },
  "language_info": {
   "codemirror_mode": {
    "name": "ipython",
    "version": 3
   },
   "file_extension": ".py",
   "mimetype": "text/x-python",
   "name": "python",
   "nbconvert_exporter": "python",
   "pygments_lexer": "ipython3",
   "version": "3.9.18"
  }
 },
 "nbformat": 4,
 "nbformat_minor": 5
}
